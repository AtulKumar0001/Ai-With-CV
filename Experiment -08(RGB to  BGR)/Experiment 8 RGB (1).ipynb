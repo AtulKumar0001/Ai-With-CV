{
 "cells": [
  {
   "cell_type": "markdown",
   "metadata": {},
   "source": [
    "Implement the Image processing basics: Converting Image to RGB to BGR and to Grayscale, create a White / Black Color Image, how to draw shapes on image.\n",
    "\n",
    "Date = 14-05-2024"
   ]
  },
  {
   "cell_type": "code",
   "execution_count": 16,
   "metadata": {},
   "outputs": [],
   "source": [
    "import cv2\n",
    "import numpy as np"
   ]
  },
  {
   "cell_type": "code",
   "execution_count": 17,
   "metadata": {},
   "outputs": [],
   "source": [
    "def convert_to_grayscale(image_path):\n",
    "    #Load the image\n",
    "    image = cv2.imread(image_path)\n",
    "    #Convert the image into grayscale\n",
    "    grayscale_image = cv2.cvtColor(image, cv2.COLOR_BGR2GRAY)\n",
    "\n",
    "    cv2.imshow(\"Original Image\", image)\n",
    "    cv2.imshow(\"Grayscale Image\", grayscale_image)\n",
    "    cv2.waitKey(0)\n",
    "    cv2.destroyAllWindows()\n",
    "           "
   ]
  },
  {
   "cell_type": "code",
   "execution_count": 18,
   "metadata": {},
   "outputs": [],
   "source": [
    "convert_to_grayscale(\"img1.jpg\")"
   ]
  },
  {
   "cell_type": "code",
   "execution_count": 19,
   "metadata": {},
   "outputs": [],
   "source": [
    "def convert_to_bgr(image_path, output_path):\n",
    "    #Load the image\n",
    "    image = cv2.imread(image_path)\n",
    "    #Convert the image to BGR color space\n",
    "    bgr_image = cv2.cvtColor(image, cv2.COLOR_RGB2BGR)\n",
    "\n",
    "    # Display the original ad BGR images\n",
    "    cv2.imshow(\"Original Image\", image)\n",
    "    cv2.imshow(\"BGR Image\", bgr_image)\n",
    "\n",
    "    # Save the BGR image\n",
    "    cv2.imwrite(output_path, bgr_image)\n",
    "    print(\"BGR image saves as\", output_path)\n",
    "    cv2.waitKey(0)\n",
    "    cv2.destroyAllWindows()"
   ]
  },
  {
   "cell_type": "code",
   "execution_count": 20,
   "metadata": {},
   "outputs": [
    {
     "name": "stdout",
     "output_type": "stream",
     "text": [
      "BGR image saves as img2.jpg\n"
     ]
    }
   ],
   "source": [
    "convert_to_bgr(\"img1.jpg\", \"img2.jpg\" )"
   ]
  },
  {
   "cell_type": "code",
   "execution_count": null,
   "metadata": {},
   "outputs": [],
   "source": [
    "def convert_bgr_to_rgb(input_path):\n",
    "    # Load the image\n",
    "    image_bgr = cv2.imread(input_path)\n",
    "    # Convert the image from BGR to RGB color space\n",
    "    image_rgb = cv2.cvtColor(image_bgr, cv2.COLOR_BGR2RGB)\n",
    "\n",
    "    #Display the original BGR image and the converted RGB image\n",
    "    cv2.imshow(\"BGR Image\", image_bgr)\n",
    "    cv2.imshow(\"RGB Image\", image_rgb)\n",
    "    cv2.waitKey(0)\n",
    "    cv2.destroyAllWindows()"
   ]
  },
  {
   "cell_type": "code",
   "execution_count": null,
   "metadata": {},
   "outputs": [],
   "source": [
    "convert_bgr_to_rgb(\"img1.jpg\")"
   ]
  },
  {
   "cell_type": "code",
   "execution_count": null,
   "metadata": {},
   "outputs": [],
   "source": [
    "def create_white_image(width, height):\n",
    "    #Create a white color image\n",
    "    white_image = np.ones((height, width, 3), dtype=np.uint8) * 255\n",
    "\n",
    "    # Display the white image\n",
    "    cv2.imshow(\"WHite Image\", white_image)\n",
    "    cv2.waitKey(0)\n",
    "    cv2.destroyAllWindows()"
   ]
  },
  {
   "cell_type": "code",
   "execution_count": null,
   "metadata": {},
   "outputs": [],
   "source": [
    "def create_black_image(width, height):\n",
    "    # Create a black color image\n",
    "    black_image = np.zeros((height, width, 3), dtype=np.uint8) * 255\n",
    "\n",
    "    # Display the blac image\n",
    "    cv2.imshow(\"Black Image\", black_image)\n",
    "    cv2.waitKey(0)\n",
    "    cv2.destroyAllWindows()"
   ]
  },
  {
   "cell_type": "code",
   "execution_count": null,
   "metadata": {},
   "outputs": [],
   "source": [
    "width, height = 800, 600\n",
    "\n",
    "create_white_image(width, height)\n",
    "create_black_image(width, height)"
   ]
  },
  {
   "cell_type": "code",
   "execution_count": null,
   "metadata": {},
   "outputs": [],
   "source": [
    "def draw_shapes_on_image(input_path):\n",
    "    # Load the image\n",
    "    image = cv2.imread(input_path)\n",
    "\n",
    "    #Draw shapes on the image\n",
    "    cv2.rectangle(image, (50, 50), (200, 200), (0, 255, 0), 2)\n",
    "\n",
    "    cv2.circle(image, (300, 150), 100, (0,0,255),2)\n",
    "\n",
    "    cv2.line(image, (400, 50), (400, 250), (255, 0 ,0), 2)\n",
    "\n",
    "    cv2.imshow(\"Image with Shapes\", image)\n",
    "    cv2.waitKey(0)\n",
    "    cv2.destroyAllWindows()"
   ]
  },
  {
   "cell_type": "code",
   "execution_count": null,
   "metadata": {},
   "outputs": [],
   "source": [
    "draw_shapes_on_image(\"img1.jpg\")"
   ]
  },
  {
   "cell_type": "code",
   "execution_count": null,
   "metadata": {},
   "outputs": [],
   "source": []
  },
  {
   "cell_type": "code",
   "execution_count": null,
   "metadata": {},
   "outputs": [],
   "source": []
  }
 ],
 "metadata": {
  "kernelspec": {
   "display_name": "Python 3 (ipykernel)",
   "language": "python",
   "name": "python3"
  },
  "language_info": {
   "codemirror_mode": {
    "name": "ipython",
    "version": 3
   },
   "file_extension": ".py",
   "mimetype": "text/x-python",
   "name": "python",
   "nbconvert_exporter": "python",
   "pygments_lexer": "ipython3",
   "version": "3.11.9"
  }
 },
 "nbformat": 4,
 "nbformat_minor": 2
}
