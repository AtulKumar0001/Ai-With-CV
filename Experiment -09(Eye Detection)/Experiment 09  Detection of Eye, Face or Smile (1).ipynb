{
 "cells": [
  {
   "cell_type": "markdown",
   "metadata": {
    "id": "6w91LEzW7osc"
   },
   "source": [
    "Implement the detection of Eye or face or Smile from the Image.\n",
    "\n",
    "Date = 14-04-2024"
   ]
  },
  {
   "cell_type": "code",
   "execution_count": 1,
   "metadata": {
    "id": "gvTOErIM7Vu7"
   },
   "outputs": [],
   "source": [
    "import numpy as np\n",
    "import cv2"
   ]
  },
  {
   "cell_type": "markdown",
   "metadata": {},
   "source": [
    "The cv2.data.haarcascades is a pre-defined path in OpenCV that refers to the directory containing the Haar cascade XML files.\n",
    "'haarcascade_frontalface_default.xml' is the XML file that contains the trained model for face detection using the Haar cascade algorithm. It specifically looks for frontal faces."
   ]
  },
  {
   "cell_type": "code",
   "execution_count": 2,
   "metadata": {
    "id": "oG1puoOj757z"
   },
   "outputs": [],
   "source": [
    "# load models\n",
    "face_cascade = cv2.CascadeClassifier(cv2.data.haarcascades + 'haarcascade_frontalface_default.xml') #This line creates an instance of the CascadeClassifier class from OpenCV, which is used for detecting faces.\n",
    "eye_cascade = cv2.CascadeClassifier(cv2.data.haarcascades + 'haarcascade_eye.xml')\n",
    "smile_cascade = cv2.CascadeClassifier(cv2.data.haarcascades + 'haarcascade_smile.xml')"
   ]
  },
  {
   "cell_type": "markdown",
   "metadata": {
    "id": "wEFL6TTOBNCQ"
   },
   "source": [
    "Example 1"
   ]
  },
  {
   "cell_type": "code",
   "execution_count": null,
   "metadata": {
    "colab": {
     "base_uri": "https://localhost:8080/",
     "height": 427
    },
    "id": "CJXtwGJZ754S",
    "outputId": "0cdd0d52-0e22-4b63-edbf-e83a93911932"
   },
   "outputs": [],
   "source": [
    "img = cv2.imread(\"C:/Users/ACER/Downloads/ml.jpeg\")  # Load image\n",
    "cv2.imshow(\"Image\", img)  # Display the image\n",
    "cv2.waitKey(0)  # Wait for a key press\n",
    "cv2.destroyAllWindows()  # Close all windows\n"
   ]
  },
  {
   "cell_type": "code",
   "execution_count": null,
   "metadata": {
    "colab": {
     "base_uri": "https://localhost:8080/",
     "height": 427
    },
    "id": "W5BoWO8m9UbQ",
    "outputId": "f04d3047-74d0-43e1-dac3-ff3390d4fd07"
   },
   "outputs": [],
   "source": [
    "gray = cv2.cvtColor(img, cv2.COLOR_BGR2GRAY)  # Convert to grayscale\n",
    "cv2.imshow(\"Grayscale Image\", gray)  # Display the grayscale image\n",
    "cv2.waitKey(0)  # Wait for a key press\n",
    "cv2.destroyAllWindows()  # Close all windows"
   ]
  },
  {
   "cell_type": "code",
   "execution_count": null,
   "metadata": {
    "id": "mheyPyT0751c"
   },
   "outputs": [],
   "source": [
    "def detect_faces(img, gray):\n",
    "    faces = face_cascade.detectMultiScale(gray, 1.3, 5)\n",
    "\n",
    "    # draw bounding boxes for each face detected\n",
    "    for (x,y,w,h) in faces:\n",
    "        img = cv2.rectangle(img, (x,y), (x + w, y + h), (255,0,0), 2)\n",
    "        roi_gray = gray[y:y+h, x:x+w] # roi: region of interest\n",
    "        roi_color = img[y:y+h, x:x+w]\n",
    "        for (ex,ey,ew,eh) in eyes:\n",
    "            cv2.rectangle(roi_color,(ex,ey),(ex+ew,ey+eh),(0,255,0),2)\n",
    "            smiles = smile_cascade.detectMultiScale(roi_gray)\n",
    "        for (sx, sy, sw, sh) in smiles:\n",
    "            cv2.rectangle(roi_color, (sx, sy), ((sx + sw), (sy + sh)), (0, 0, 255), 2)\n",
    "    return img"
   ]
  },
  {
   "cell_type": "code",
   "execution_count": null,
   "metadata": {
    "colab": {
     "base_uri": "https://localhost:8080/",
     "height": 427
    },
    "id": "4-Wcs9wC75yE",
    "outputId": "5b84d0e9-2088-4a7a-806b-5901198cc8b8"
   },
   "outputs": [],
   "source": [
    "output = detect_faces(img,gray)\n",
    "cv2.imshow(\"Image\", output)\n",
    "cv2.waitKey(0)\n",
    "cv2.destroyAllWindows()"
   ]
  },
  {
   "cell_type": "markdown",
   "metadata": {},
   "source": [
    "faces = face_cascade.detectMultiScale(gray, 1.3, 5): This line detects faces in the grayscale image gray using the face cascade classifier. The detectMultiScale function returns a list of rectangles representing the detected faces.\n",
    "\n",
    "img = cv2.rectangle(img, (x,y), (x + w, y + h), (255,0,0), 2): This line draws a rectangle on the original color image img around the detected face. The (x,y) coordinates represent the top-left corner of the rectangle, (x + w, y + h) represents the bottom-right corner, (255,0,0) represents the color of the rectangle (in BGR format), and 2 is the thickness of the rectangle.\n",
    "\n",
    "roi_gray = gray[y:y+h, x:x+w]: This line extracts the region of interest (ROI) from the grayscale image gray that corresponds to the detected face. The ROI is a sub-image that contains only the face region.\n",
    "\n",
    "roi_color = img[y:y+h, x:x+w]: This line extracts the region of interest (ROI) from the color image img that corresponds to the detected face. The ROI is a sub-image that contains only the face region.\n",
    "\n",
    "cv2.rectangle(roi_color,(ex,ey),(ex+ew,ey+eh),(0,255,0),2): This line draws a rectangle on the color ROI image around the detected eye. The (ex,ey) coordinates represent the top-left corner of the rectangle, (ex+ew,ey+eh) represents the bottom-right corner, (0,255,0) represents the color of the rectangle (in BGR format), and 2 is the thickness of the rectangle."
   ]
  },
  {
   "cell_type": "markdown",
   "metadata": {
    "id": "W11i8Tv9BJR-"
   },
   "source": [
    " Example 2"
   ]
  },
  {
   "cell_type": "code",
   "execution_count": null,
   "metadata": {
    "colab": {
     "base_uri": "https://localhost:8080/",
     "height": 504
    },
    "id": "2Mt8-b3VBIZ1",
    "outputId": "c363fc41-1315-48d7-a416-4b54dd4a8d74"
   },
   "outputs": [],
   "source": [
    "img = cv2.imread(\"C:/Users/ACER/Downloads/ml.jpeg\")  # Load image\n",
    "cv2.imshow(\"Image\", img)  # Display the image\n",
    "cv2.waitKey(0)  # Wait for a key press\n",
    "cv2.destroyAllWindows()  # Close all windows"
   ]
  },
  {
   "cell_type": "code",
   "execution_count": null,
   "metadata": {
    "colab": {
     "base_uri": "https://localhost:8080/",
     "height": 504
    },
    "id": "gLicRT7iBZ9K",
    "outputId": "9f9ea31c-c949-42fe-d7c5-44a7ffcac9dd"
   },
   "outputs": [],
   "source": [
    "gray = cv2.cvtColor(img, cv2.COLOR_BGR2GRAY) # convert to gray scale\n",
    "\n",
    "img = detect_faces(img, gray)\n",
    "cv2.imshow(\"Image\", img)\n",
    "cv2.waitKey(0)\n",
    "cv2.destroyAllWindows()"
   ]
  },
  {
   "cell_type": "code",
   "execution_count": null,
   "metadata": {},
   "outputs": [],
   "source": []
  },
  {
   "cell_type": "code",
   "execution_count": null,
   "metadata": {},
   "outputs": [],
   "source": []
  }
 ],
 "metadata": {
  "colab": {
   "authorship_tag": "ABX9TyOmar06sK7/yRUesD7zbEgR",
   "collapsed_sections": [],
   "include_colab_link": true,
   "name": "Face, Eye and Smile detection.ipynb",
   "provenance": [],
   "toc_visible": true
  },
  "kernelspec": {
   "display_name": "Python 3 (ipykernel)",
   "language": "python",
   "name": "python3"
  },
  "language_info": {
   "codemirror_mode": {
    "name": "ipython",
    "version": 3
   },
   "file_extension": ".py",
   "mimetype": "text/x-python",
   "name": "python",
   "nbconvert_exporter": "python",
   "pygments_lexer": "ipython3",
   "version": "3.11.5"
  }
 },
 "nbformat": 4,
 "nbformat_minor": 1
}
