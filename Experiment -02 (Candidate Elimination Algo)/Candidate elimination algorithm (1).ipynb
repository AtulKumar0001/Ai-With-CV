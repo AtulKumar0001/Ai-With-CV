{
 "cells": [
  {
   "cell_type": "code",
   "execution_count": 1,
   "id": "6ec627f4",
   "metadata": {},
   "outputs": [],
   "source": [
    "#IMPORT THE PACKAGES\n",
    "\n",
    "import numpy as np\n",
    "import pandas as pd\n"
   ]
  },
  {
   "cell_type": "code",
   "execution_count": 4,
   "id": "054bac37",
   "metadata": {},
   "outputs": [
    {
     "name": "stdout",
     "output_type": "stream",
     "text": [
      "     sky air temp humdity    wind water forecast enjoy sports\n",
      "0  sunny     warm  normal  strong  warm     same          yes\n",
      "1  sunny     warm    high  strong  warm     same          yes\n",
      "2  rainy     cold    high  strong  warm   change           no\n",
      "3  sunny     warm    high  strong  cool   change          yes\n"
     ]
    }
   ],
   "source": [
    "#LOADING DATA FROM A CSV FILE\n",
    "\n",
    "data=pd.DataFrame(data=pd.read_csv('lab1.csv'))\n",
    "print(data)"
   ]
  },
  {
   "cell_type": "code",
   "execution_count": 5,
   "id": "a383d81c",
   "metadata": {},
   "outputs": [
    {
     "name": "stdout",
     "output_type": "stream",
     "text": [
      "[['sunny' 'warm' 'normal' 'strong' 'warm' 'same']\n",
      " ['sunny' 'warm' 'high' 'strong' 'warm' 'same']\n",
      " ['rainy' 'cold' 'high' 'strong' 'warm' 'change']\n",
      " ['sunny' 'warm' 'high' 'strong' 'cool' 'change']]\n"
     ]
    }
   ],
   "source": [
    "#SEPERATING CONCEPT FEATURES FROM TARGET\n",
    "\n",
    "concepts = np.array(data.iloc[:,0:-1])\n",
    "print(concepts)"
   ]
  },
  {
   "cell_type": "code",
   "execution_count": 6,
   "id": "33f9fe35",
   "metadata": {},
   "outputs": [
    {
     "name": "stdout",
     "output_type": "stream",
     "text": [
      "['yes' 'yes' 'no' 'yes']\n"
     ]
    }
   ],
   "source": [
    "target = np.array(data.iloc[:,-1])\n",
    "print(target)"
   ]
  },
  {
   "cell_type": "code",
   "execution_count": 12,
   "id": "298b0e10",
   "metadata": {},
   "outputs": [
    {
     "name": "stdout",
     "output_type": "stream",
     "text": [
      "\n",
      " Initilization of specific_h and general_h\n",
      "\n",
      " Specific Boundary:   ['sunny' 'warm' 'normal' 'strong' 'warm' 'same']\n",
      "\n",
      " Generic Boundary:  [['?', '?', '?', '?', '?', '?'], ['?', '?', '?', '?', '?', '?'], ['?', '?', '?', '?', '?', '?'], ['?', '?', '?', '?', '?', '?'], ['?', '?', '?', '?', '?', '?'], ['?', '?', '?', '?', '?', '?']]\n",
      "\n",
      " Instance 1 is  ['sunny' 'warm' 'normal' 'strong' 'warm' 'same']\n",
      "Instance is positive\n",
      "Specific Boundary after  1 Instance is  ['sunny' 'warm' 'normal' 'strong' 'warm' 'same']\n",
      "Generic Boundary after  1 Instance is  [['?', '?', '?', '?', '?', '?'], ['?', '?', '?', '?', '?', '?'], ['?', '?', '?', '?', '?', '?'], ['?', '?', '?', '?', '?', '?'], ['?', '?', '?', '?', '?', '?'], ['?', '?', '?', '?', '?', '?']]\n",
      "\n",
      "\n",
      "Final Specific_h: \n",
      "['sunny' 'warm' 'normal' 'strong' 'warm' 'same']\n",
      "Final General_h: \n",
      "[]\n"
     ]
    }
   ],
   "source": [
    "def learn(concepts,target):\n",
    "    specific_h = concepts[0].copy()\n",
    "    print(\"\\n Initilization of specific_h and general_h\")\n",
    "    print(\"\\n Specific Boundary:  \", specific_h)\n",
    "    general_h = [[\"?\" for i in range(len(specific_h))] for i in range (len(specific_h))]\n",
    "    print(\"\\n Generic Boundary: \",general_h)\n",
    "    \n",
    "    \n",
    "    for i,h in enumerate(concepts):\n",
    "        print(\"\\n Instance\", i+1,\"is \", h)\n",
    "        if target[i] == \"yes\":\n",
    "            print(\"Instance is positive\")\n",
    "            for x in range(len(specific_h)):\n",
    "                if h[x]!=specific_h[x]:\n",
    "                    specific_h[x]='?'\n",
    "                    general_h[x][x]='?'\n",
    "                    \n",
    "        if target[i] == \"no\":\n",
    "            print(\"Instance is Negative \")\n",
    "            for x in range(len(specific_h)):\n",
    "                if h[x]!=specific_h[x]:\n",
    "                    general_h[x][x] = specific_h[x]\n",
    "                else:\n",
    "                    general_h[x][x] = '?'\n",
    "                    \n",
    "        print(\"Specific Boundary after \", i+1, \"Instance is \", specific_h)\n",
    "        print(\"Generic Boundary after \", i+1, \"Instance is \", general_h)\n",
    "        print(\"\\n\")\n",
    "        \n",
    "        \n",
    "        indices = [i for i , val in enumerate(general_h) if val == ['?','?','?','?','?','?']]\n",
    "        for i in indices:\n",
    "            general_h.remove(['?','?','?','?','?','?'])\n",
    "        return specific_h, general_h\n",
    "    \n",
    "    \n",
    "s_final, g_final = learn(concepts, target)\n",
    "print(\"Final Specific_h: \",s_final, sep=\"\\n\")\n",
    "print(\"Final General_h: \",g_final, sep=\"\\n\")"
   ]
  },
  {
   "cell_type": "code",
   "execution_count": null,
   "id": "06d67a64",
   "metadata": {},
   "outputs": [],
   "source": []
  }
 ],
 "metadata": {
  "kernelspec": {
   "display_name": "Python 3 (ipykernel)",
   "language": "python",
   "name": "python3"
  },
  "language_info": {
   "codemirror_mode": {
    "name": "ipython",
    "version": 3
   },
   "file_extension": ".py",
   "mimetype": "text/x-python",
   "name": "python",
   "nbconvert_exporter": "python",
   "pygments_lexer": "ipython3",
   "version": "3.11.5"
  }
 },
 "nbformat": 4,
 "nbformat_minor": 5
}
