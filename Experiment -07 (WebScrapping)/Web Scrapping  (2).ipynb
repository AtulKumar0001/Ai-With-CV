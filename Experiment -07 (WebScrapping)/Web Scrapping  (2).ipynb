{
 "cells": [
  {
   "cell_type": "code",
   "execution_count": 1,
   "id": "6e997515",
   "metadata": {},
   "outputs": [],
   "source": [
    "from bs4 import BeautifulSoup\n",
    "import requests"
   ]
  },
  {
   "cell_type": "code",
   "execution_count": 2,
   "id": "2e515d5c",
   "metadata": {},
   "outputs": [
    {
     "name": "stdout",
     "output_type": "stream",
     "text": [
      "Product Title \n",
      "Product Price \n",
      "Product Rating \n",
      "Number Of Product Reviews \n",
      "Availability \n"
     ]
    }
   ],
   "source": [
    "def get_title(soup):\n",
    "    try:\n",
    "        title=soup.find(\"span\",attrs={\"id\":\"productTitle\"})\n",
    "        title_string=title.get_text(strip=True)\n",
    "    except AttributeError:\n",
    "        title_string=\"\"\n",
    "    return title_string\n",
    "\n",
    "# Function to get product price\n",
    "def get_price(soup):\n",
    "    try:\n",
    "        price=soup.find(\"span\",attrs={\"class\":\"a-offscreen\"})\n",
    "        if price is not None:\n",
    "            price_string=price.get_text(strip=True)\n",
    "        else:\n",
    "            price_string=\"\"\n",
    "    except AttributeError:\n",
    "        price_string=\"\"\n",
    "    return price_string\n",
    "\n",
    "#  Function to extract Product Rating\n",
    "def get_rating(soup):\n",
    "    try:\n",
    "        rating=soup.find(\"span\",attrs={\"class\":\"a-icon-alt\"})\n",
    "        if rating is not None:\n",
    "            rating_string=rating.get_text(strip=True)\n",
    "        else:\n",
    "            rating_string=\"\"\n",
    "    except AttributeError:\n",
    "        rating_string=\"\"\n",
    "    return rating_string\n",
    "\n",
    "# Function to get Number of User Reviews\n",
    "def get_review_count(soup):\n",
    "    try:\n",
    "        review_count=soup.find(\"span\",attrs={\"id\":\"acrCustomerReviewText\"})\n",
    "        if review_count is not None:\n",
    "            review_count_string=review_count.get_text(strip=True)\n",
    "        else:\n",
    "            review_count_string=\"\"\n",
    "    except AttributeError:\n",
    "        review_count_string=\"\"\n",
    "    return review_count_string\n",
    "\n",
    "#  Function to extract availability Status \n",
    "def get_availability(soup):\n",
    "    try:\n",
    "        availability=soup.find(\"div\",attrs={\"id\":\"availability\"})\n",
    "        if availability is not None:\n",
    "            availability_string=availability.get_text(strip=True)\n",
    "        else:\n",
    "            availability_string=\"\"\n",
    "    except AttributeError:\n",
    "        availability_string=\"\"\n",
    "    return availability_string\n",
    "\n",
    "if __name__==\"__main__\":\n",
    "#     headers for request\n",
    "    headers={\n",
    "        \"User-Agent\":\"Mozilla/5.0 (Windows NT 10.0; Win64; x64) AppleWebKit/537.36 (KHTML,like Gecko) Chrome/124.0.0.0 Safari/537.36\",\"Accept-Language\":\"en-Us, en;q=0.5\"\n",
    "    }\n",
    "    url=\"https://www.amazon.in/Samsung-Galaxy-Smartphone-Titanium-Storage/dp/B0CS5Y7H6T/?_encoding=UTF8&_encoding=UTF8&ref_=dlx_gate_sd_dcl_tlt_76c513c1_dt_pd_hp_d_atf_unk\"\n",
    "    webpage=requests.get(url, headers=headers)\n",
    "    \n",
    "    soup=BeautifulSoup(webpage.content, \"html.parser\")\n",
    "    \n",
    "    print(\"Product Title\",get_title(soup))\n",
    "    print(\"Product Price\",get_price(soup))\n",
    "    print(\"Product Rating\",get_rating(soup))\n",
    "    print(\"Number Of Product Reviews\",get_review_count(soup))\n",
    "    print(\"Availability\",get_availability(soup))"
   ]
  },
  {
   "cell_type": "code",
   "execution_count": null,
   "id": "4156fa84",
   "metadata": {},
   "outputs": [],
   "source": []
  },
  {
   "cell_type": "code",
   "execution_count": null,
   "id": "5f2394db",
   "metadata": {},
   "outputs": [],
   "source": []
  }
 ],
 "metadata": {
  "kernelspec": {
   "display_name": "Python 3 (ipykernel)",
   "language": "python",
   "name": "python3"
  },
  "language_info": {
   "codemirror_mode": {
    "name": "ipython",
    "version": 3
   },
   "file_extension": ".py",
   "mimetype": "text/x-python",
   "name": "python",
   "nbconvert_exporter": "python",
   "pygments_lexer": "ipython3",
   "version": "3.11.9"
  }
 },
 "nbformat": 4,
 "nbformat_minor": 5
}
